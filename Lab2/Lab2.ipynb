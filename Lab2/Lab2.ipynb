#Пусть состояние автомата определяется следующими шестью свойствами, представленными как глобальные переменные:
#Состояние игровой доски (в формате двухмерного массива размера 3, n: коодината занятой клетки 1, коодината занятой клетки 2, номер фигуры),
#номер (фигура) игрока который сейчас ходит, состояние игры (в процессе, победа Х/0, ничья),
#состояние зоны фокуса, и две координаты определяющие положение зоны форкуса

#Начальное состояние автомата следующее:
#Так как без разницы где на бесконечной доске находится первый ход, то ради удобства он располагается по нулевым координатам в момент начала игры
board = [[0 for i in range(1)] for j in range(3)]
board [2][0] = 1
#Зона фокуса - поле 9*9, заполненное нулями
focusBoard = [[0 for a in range(9)] for b in range(9)]
#Ходит игрок с фигурой 1 (условно, визуально это можно интерпретировать как любую фигуру)
playerSelecter = -1
#Игра не завершилась
gameOver = 0
#Координаты верхнего левого угла зоны фокуса для первого хода (для удобства в ходе используются локальные координаты зоны фокуса, а не глобальные)
iFocus = -4
jFocus = -4

#Команда grab принимает координаты клетки доски в зоне фокуса (по вертикали, по горизонтали)
def grab(i, j):
  #Значения, которые выходят за пределы текущей зоны фокуса хоть и будут правильно переводиться в глобальные координаты, но для удобства не импользуются
  if (i < 0 or i > 8 or j < 0 or j > 8):
    print("oops")
    return
  global board, iFocus, jFocus, playerSelecter
  #Угол зоны фокуса смещается в новые координаты в соответствии с ходом
  iFocus = i + iFocus - 4
  jFocus = j + jFocus - 4
  check = 0
  iter = 0
  #Массив занятых клеток исследуется на наличие в нем координат текущего хода (в глобальных координатах)
  for y in board[0]:
    #Если они присутствуют, то зона фокуса сбрасывается на предыдущую и выводится сообщение об ошибке
    if (y == iFocus + 4 and board[1][iter] == jFocus + 4):
      check = 1
      iFocus = iFocus - i + 4
      jFocus = jFocus - j + 4
      print("oops")
      return
    iter += 1
  #Если же данная клетка свободна, то она вносится в массив, и ход передается следующему игроку
  if (check == 0):
    board[0].append(iFocus + 4)
    board[1].append(jFocus + 4)
    board[2].append(playerSelecter)
    playerSelecter = -playerSelecter
  return 

#Команда focus составляет поле 9*9 с цетром в указанных координатах и выводит его на экран
def focus(i, j):
  global focusBoard
  #Поле сбрасывает свои значения, и заново заполняется по координатамм из списка, которые находятся в зоне радиуса 4 от переданных координат 
  focusBoard = [[0 for a in range(9)] for b in range(9)]
  iter = 0
  for y in board[0]:
    if ((i + 4 >= y >= i - 4) and (j + 4 >= board[1][iter] >= j - 4)):
      focusBoard [y - i + 4][board[1][iter] - j + 4] = board[2][iter]
    iter += 1
  #Зона форкуса печатается с соответствующими значениями
  for a in focusBoard:
    for b in a:
      if (b == 1 or b == 0):
        print(" " + str(b), end = "")
      else:
        print(str(b), end = "")
    print()

#Команда gameOverCheck проверяет состояние игры
def gameOverCheck():
  #Имеется 4 возможных комбинации, при которых игра заканчивается
  #Если имеется 5 одинковых фигур по вертикали, по горизонтали, по основной и побочной диагоналям
  #Так как точка фокуса всегда находится в месте, где был сделан последний ход, то анализ происходит по зоне фокуса
  #Из тех же соображений, проверка начинается с цетральной точки.
  #По каждому из направлений по очереди проверяются клетки "спереди" и "сзади"
  #Если какое-то из направлений останавливается (то есть занято другой фигурой), то другое все равно продолжает проверяться
  global gameOver
  #Проверка по горизонтали
  fwdCheck = 1
  bckCheck = 1
  row = 1
  for i in range (1, 5): 
    if (focusBoard[4][4 + i] == -playerSelecter and fwdCheck == 1):
      row += 1
    else:
      fwdCheck = 0
    if (focusBoard[4][4 - i] == -playerSelecter and bckCheck == 1):
      row += 1
    else: 
      bckCheck = 0
  #Проверка по вертикали
  fwdCheck = 1
  bckCheck = 1
  col = 1
  for i in range (1, 5): 
    if (focusBoard[4 + i][4] == -playerSelecter and fwdCheck == 1):
      col += 1
    else:
      fwdCheck = 0
    if (focusBoard[4 - i][4] == -playerSelecter and bckCheck == 1):
      col += 1
    else: 
      bckCheck = 0
  #Проверка по главной диагонали
  fwdCheck = 1
  bckCheck = 1
  mDiag = 1
  for i in range (1, 5): 
    if (focusBoard[4 + i][4 + i] == -playerSelecter and fwdCheck == 1):
      mDiag += 1
    else:
      fwdCheck = 0
    if (focusBoard[4 - i][4 - i] == -playerSelecter and bckCheck == 1):
      mDiag += 1
    else: 
      bckCheck = 0
  #Проверка по побочной диагонали
  fwdCheck = 1
  bckCheck = 1
  sDiag = 1
  for i in range (1, 5): 
    if (focusBoard[4 + i][4 - i] == -playerSelecter and fwdCheck == 1):
      sDiag += 1
    else:
      fwdCheck = 0
    if (focusBoard[4 - i][4 + i] == -playerSelecter and bckCheck == 1):
      sDiag += 1
    else: 
      bckCheck = 0
  #Если по какому-то из вариантов стоит 5 одинаковых фигур подряд, этот игрок побеждает
  #Ничьи в таком варианте игры быть не может
  if (mDiag >= 5 or sDiag >= 5 or row >= 5 or col >= 5):
    gameOver = -playerSelecter

#Команда refocus позволяет сместить зону фокуса
#Так как ход можно делать только внутри зоны фокуса, требуется команда, которая может ее двигать используя локальные координаты
def refocus(i, j):
  global iFocus, jFocus
  iFocus = i + iFocus
  jFocus = j + jFocus
  focus(iFocus + 4, jFocus + 4)

#Зона фокуса устанавливается на первый ход
focus(iFocus + 4, jFocus + 4)
while (1):
  #Игроки по очереди могут либо сначала сместить зону фокуса, и потом походить, либо просто походить
  print("Refocus(r) or make a move?")
  a = input()
  while (a == "r"):
    print("Enter the vertical refocus coordinate:")
    i = int(input())
    print("Enter the horizontal refocus coordinate:")
    j = int(input())
    refocus(i, j)
    print("Refocus(r) or make a move?")
    a = input()
  #Игрок вводит координаты клетки, в которую он бы хотел сделать ход
  print("Enter the vertical position:")
  i = int(input())
  print("Enter the horizontal position:")
  j = int(input())
  #Вызывается команда хода
  grab(i,j)
  #Вызывается команда составления зоны фокуса
  focus(iFocus + 4, jFocus + 4)
  #Вызывается команда проверки окончания игры
  gameOverCheck()
  #Если игра закончилась, то в зависимости от состояния определяется победитель
  if (gameOver != 0):
    print("Game over! " + str(gameOver) + " wins")
    break
