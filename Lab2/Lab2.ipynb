board = [[0 for i in range(1)] for j in range(3)]
board [2][0] = 1

focusBoard = [[0 for a in range(9)] for b in range(9)]

playerSelecter = -1
gameOver = 0

def grab(i, j):
  global board
  global playerSelecter
  check = 0
  iter = 0
  for y in board[0]:
    if (y == i and board[1][iter] == j):
      check = 1
      print ("oops")
      return
    iter += 1
  if (check == 0):
    board[0].append(i)
    board[1].append(j)
    board[2].append(playerSelecter)
    playerSelecter = -playerSelecter
  return 

def focus(i, j):
  global focusBoard
  focusBoard = [[0 for a in range(9)] for b in range(9)]
  iter = 0
  for y in board[0]:
    if ((i + 4 >= y >= i - 4) and (j + 4 >= board[1][iter] >= j - 4)):
      focusBoard [y - i + 4][board[1][iter] - j + 4] = board[2][iter]
    iter += 1
  for a in focusBoard:
    for b in a:
      if (b == 1 or b == 0):
        print(" " + str(b), end = "")
      else:
        print(str(b), end = "")
    print()

def gameOverCheck():
  global gameOver
  fwdCheck = 1
  bckCheck = 1
  row = 1
  for i in range (1, 5): 
    if (focusBoard[4][4 + i] == -playerSelecter and fwdCheck == 1):
      row += 1
    else:
      fwdCheck = 0
    if (focusBoard[4][4 - i] == -playerSelecter and bckCheck == 1):
      row += 1
    else: 
      bckCheck = 0
  print(row)

  fwdCheck = 1
  bckCheck = 1
  col = 1
  for i in range (1, 5): 
    if (focusBoard[4 + i][4] == -playerSelecter and fwdCheck == 1):
      col += 1
    else:
      fwdCheck = 0
    if (focusBoard[4 - i][4] == -playerSelecter and bckCheck == 1):
      col += 1
    else: 
      bckCheck = 0
  print(col)
  fwdCheck = 1
  bckCheck = 1
  mDiag = 1
  for i in range (1, 5): 
    if (focusBoard[4 + i][4 + i] == -playerSelecter and fwdCheck == 1):
      mDiag += 1
    else:
      fwdCheck = 0
    if (focusBoard[4 - i][4 - i] == -playerSelecter and bckCheck == 1):
      mDiag += 1
    else: 
      bckCheck = 0
  print(mDiag)

  fwdCheck = 1
  bckCheck = 1
  sDiag = 1
  for i in range (1, 5): 
    if (focusBoard[4 + i][4 - i] == -playerSelecter and fwdCheck == 1):
      sDiag += 1
    else:
      fwdCheck = 0
    if (focusBoard[4 - i][4 + i] == -playerSelecter and bckCheck == 1):
      sDiag += 1
    else: 
      bckCheck = 0
  print(sDiag)

  if (mDiag >= 5 or sDiag >= 5 or row >= 5 or col >= 5):
    gameOver = -playerSelecter


grab(10, 12)

grab(1, -1)
grab(2, 0)

grab(2, -2)
grab(-4, -4)

grab(-2, 2)
grab(10,10)

grab(-3, 3)
grab(10, 20)

grab(-1, 1)
focus(0, 0)
gameOverCheck()
print(gameOver)
print(str(board[0]) + "\n" + str(board[1]) + "\n" + str(board[2]))
