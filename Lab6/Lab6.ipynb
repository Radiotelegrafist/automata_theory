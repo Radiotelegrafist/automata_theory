{
  "nbformat": 4,
  "nbformat_minor": 0,
  "metadata": {
    "colab": {
      "name": "Lab6.ipynb",
      "provenance": [],
      "collapsed_sections": [],
      "authorship_tag": "ABX9TyM7vEY0FSpX1R5JK4IOkhiD",
      "include_colab_link": true
    },
    "kernelspec": {
      "name": "python3",
      "display_name": "Python 3"
    },
    "language_info": {
      "name": "python"
    }
  },
  "cells": [
    {
      "cell_type": "markdown",
      "metadata": {
        "id": "view-in-github",
        "colab_type": "text"
      },
      "source": [
        "<a href=\"https://colab.research.google.com/github/Radiotelegrafist/automata_theory/blob/main/Lab6/Lab6.ipynb\" target=\"_parent\"><img src=\"https://colab.research.google.com/assets/colab-badge.svg\" alt=\"Open In Colab\"/></a>"
      ]
    },
    {
      "cell_type": "code",
      "metadata": {
        "id": "nBtpe9ySg2LR"
      },
      "source": [
        "import copy\n",
        "#Зададим класс, конечного акцептора, который выглядит следующим образом:\n",
        "class NFAcceptor:\n",
        "  #Есть следующие поля: \n",
        "  def __init__(self, alphabet, states, initialState, endState):\n",
        "    #Алфавит - задает множество возможных символов на вход.\n",
        "    self.alphabet = set(alphabet)\n",
        "    #Множество состояний - словарь типа {номер состояния:{возможные переходы}}\n",
        "    self.states = states\n",
        "    #Начальное состояние - номер состояния в момент начала работы акцептора\n",
        "    self.initialState = initialState\n",
        "    #Конечное состояние - номер состояния/сocтояний в которых акцептор принимает строку\n",
        "    self.endState = set(endState)\n",
        "\n",
        "  #Метод, который проверяет, допускается ли input акцептором\n",
        "  def accept(self, input): \n",
        "    #Текущее состояние задается как начальное\n",
        "    state = self.initialState\n",
        "    #Переходы будут хранится в виде чписка множеств\n",
        "    globalStatesSet = list(set([state]))\n",
        "    localStatesSet = list(set([state]))\n",
        "    #Рассмотрим вариант, когда слово поустое, тогда проверяются только спонтанные переходы\n",
        "    if input == \"\":\n",
        "      tmpState = state\n",
        "      spStates = set({})\n",
        "      statesSet = set({tmpState})\n",
        "      while (True):\n",
        "        spStates.update(set(states [tmpState] ['sp']))\n",
        "        for stateCheck in spStates.copy():\n",
        "          if (stateCheck in statesSet) == True:\n",
        "            spStates.remove(stateCheck)\n",
        "        if len(spStates) == 0:\n",
        "          break\n",
        "        tmpState = list(spStates)[0]\n",
        "        statesSet.update({tmpState})\n",
        "        globalStatesSet = list([statesSet])\n",
        "    \n",
        "    #Составляется список всех возможных состояний при приеме слова\n",
        "    for char in input:\n",
        "      localStatesSetTmp = copy.deepcopy(localStatesSet)\n",
        "      localStatesSet = list(set())\n",
        "      for currentStatesSet in localStatesSetTmp:\n",
        "        if type(currentStatesSet) is int:\n",
        "          currentStatesSet = set({currentStatesSet})\n",
        "        for currentState in currentStatesSet:\n",
        "          #Если символ не принадлежит алфавиту, то строка не принимается\n",
        "          if (char in self.alphabet) == False:\n",
        "            return False \n",
        "          #Сначала принимаются во внимание все спонтанные переходы\n",
        "          tmpState = currentState\n",
        "          spStates = set({})\n",
        "          statesSet = set({})\n",
        "          while (True):\n",
        "            spStates.update(set(states [tmpState] ['sp']))\n",
        "            for stateCheck in spStates.copy():\n",
        "              if (stateCheck in statesSet) == True:\n",
        "                spStates.remove(stateCheck)\n",
        "            if len(spStates) == 0:\n",
        "              break\n",
        "            tmpState = list(spStates)[0]\n",
        "            statesSet.update({tmpState})\n",
        "          #После чего множество дополняется обычными переходами\n",
        "          for stateCheck in statesSet.copy():\n",
        "            statesSet.update(set(states[stateCheck][char]))\n",
        "          statesSet.update(set(states[currentState][char]))   \n",
        "          localStatesSet.append(set(statesSet))\n",
        "      globalStatesSet.append(localStatesSet)\n",
        "\n",
        "    #Выбираются все возможные конечные состояния\n",
        "    endPosStates = globalStatesSet[len(globalStatesSet)-1]\n",
        "    #Если какое-либо из них совпадает с конечным, то слово принимается\n",
        "    if type(endPosStates) is int:\n",
        "      endPosStates = list({endPosStates})\n",
        "    for positionSet in endPosStates:\n",
        "      if type(positionSet) is int:\n",
        "        positionSet = set({positionSet})\n",
        "      for position in positionSet:\n",
        "        if (position in endState) == True:\n",
        "          return True\n",
        "    return False     \n",
        "\n",
        "    "
      ],
      "execution_count": 1,
      "outputs": []
    },
    {
      "cell_type": "markdown",
      "metadata": {
        "id": "IEAmm-ulcw0c"
      },
      "source": [
        "Для примера рассмотрим:\n",
        "![Screenshot_631.png](data:image/png;base64,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)"
      ]
    },
    {
      "cell_type": "code",
      "metadata": {
        "colab": {
          "base_uri": "https://localhost:8080/"
        },
        "id": "-jNxYe8I5ZIQ",
        "outputId": "692fbab2-7d7f-4f89-d19b-6481abfad20e"
      },
      "source": [
        "alphabet = {'1', '0'}\n",
        "\n",
        "states = {0:{'0':{2}, '1':{2}, 'sp':{1, 3}},\n",
        "       1:{'0':{3}, '1':{0, 4}, 'sp':{}},\n",
        "       2:{'0':{1}, '1':{2}, 'sp':{}},\n",
        "       3:{'0':{1}, '1':{1}, 'sp':{}},\n",
        "       4:{'0':{3}, '1':{3}, 'sp':{}}}\n",
        "\n",
        "initialState = 0\n",
        "\n",
        "endState = {4}\n",
        "\n",
        "acceptor = NFAcceptor(alphabet, states, initialState, endState)\n",
        "\n",
        "print(acceptor.accept(\"0101\"))\n",
        "print(acceptor.accept(\"\"))\n",
        "print(acceptor.accept(\"1\"))\n",
        "print(acceptor.accept(\"01010\"))"
      ],
      "execution_count": 2,
      "outputs": [
        {
          "output_type": "stream",
          "text": [
            "True\n",
            "False\n",
            "True\n",
            "False\n"
          ],
          "name": "stdout"
        }
      ]
    },
    {
      "cell_type": "code",
      "metadata": {
        "id": "FjyJyqnfb-TK"
      },
      "source": [
        ""
      ],
      "execution_count": null,
      "outputs": []
    }
  ]
}