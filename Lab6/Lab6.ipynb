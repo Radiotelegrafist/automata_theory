{
  "nbformat": 4,
  "nbformat_minor": 0,
  "metadata": {
    "colab": {
      "name": "Lab6.ipynb",
      "provenance": [],
      "collapsed_sections": [],
      "authorship_tag": "ABX9TyMtJmV9lV/MXFyqjHTSJ2cX",
      "include_colab_link": true
    },
    "kernelspec": {
      "name": "python3",
      "display_name": "Python 3"
    },
    "language_info": {
      "name": "python"
    }
  },
  "cells": [
    {
      "cell_type": "markdown",
      "metadata": {
        "id": "view-in-github",
        "colab_type": "text"
      },
      "source": [
        "<a href=\"https://colab.research.google.com/github/Radiotelegrafist/automata_theory/blob/main/Lab6/Lab6.ipynb\" target=\"_parent\"><img src=\"https://colab.research.google.com/assets/colab-badge.svg\" alt=\"Open In Colab\"/></a>"
      ]
    },
    {
      "cell_type": "code",
      "metadata": {
        "id": "nBtpe9ySg2LR"
      },
      "source": [
        "import copy\n",
        "#Зададим класс, конечного акцептора, который выглядит следующим образом:\n",
        "class NFAcceptor:\n",
        "  #Есть следующие поля: \n",
        "  def __init__(self, alphabet, states, initialState, endState):\n",
        "    #Алфавит - задает множество возможных символов на вход.\n",
        "    self.alphabet = set(alphabet)\n",
        "    #Множество состояний - словарь типа {номер состояния:{возможные переходы}}\n",
        "    self.states = states\n",
        "    #Начальное состояние - номер состояния в момент начала работы акцептора\n",
        "    self.initialState = initialState\n",
        "    #Конечное состояние - номер состояния/сocтояний в которых акцептор принимает строку\n",
        "    self.endState = set(endState)\n",
        "\n",
        "  #Метод, который проверяет, допускается ли input акцептором\n",
        "  def accept(self, input): \n",
        "    #Текущее состояние задается как начальное\n",
        "    state = self.initialState\n",
        "    #Переходы будут хранится в виде чписка множеств\n",
        "    globalStatesSet = list(set([state]))\n",
        "    localStatesSet = list(set([state]))\n",
        "    #Рассмотрим вариант, когда слово поустое, тогда проверяются только спонтанные переходы\n",
        "    if input == \"\":\n",
        "      tmpState = state\n",
        "      spStates = set({})\n",
        "      statesSet = set({tmpState})\n",
        "      while (True):\n",
        "        spStates.update(set(states [tmpState] ['sp']))\n",
        "        for stateCheck in spStates.copy():\n",
        "          if (stateCheck in statesSet) == True:\n",
        "            spStates.remove(stateCheck)\n",
        "        if len(spStates) == 0:\n",
        "          break\n",
        "        tmpState = list(spStates)[0]\n",
        "        statesSet.update({tmpState})\n",
        "        globalStatesSet = list([statesSet])\n",
        "    \n",
        "    #Составляется список всех возможных состояний при приеме слова\n",
        "    for char in input:\n",
        "      localStatesSetTmp = copy.deepcopy(localStatesSet)\n",
        "      localStatesSet = list(set())\n",
        "      for currentStatesSet in localStatesSetTmp:\n",
        "        if type(currentStatesSet) is int:\n",
        "          currentStatesSet = set({currentStatesSet})\n",
        "        for currentState in currentStatesSet:\n",
        "          #Если символ не принадлежит алфавиту, то строка не принимается\n",
        "          if (char in self.alphabet) == False:\n",
        "            return False \n",
        "          #Сначала принимаются во внимание все спонтанные переходы\n",
        "          tmpState = currentState\n",
        "          spStates = set({})\n",
        "          statesSet = set({})\n",
        "          while (True):\n",
        "            spStates.update(set(states [tmpState] ['sp']))\n",
        "            for stateCheck in spStates.copy():\n",
        "              if (stateCheck in statesSet) == True:\n",
        "                spStates.remove(stateCheck)\n",
        "            if len(spStates) == 0:\n",
        "              break\n",
        "            tmpState = list(spStates)[0]\n",
        "            statesSet.update({tmpState})\n",
        "          #После чего множество дополняется обычными переходами\n",
        "          for stateCheck in statesSet.copy():\n",
        "            statesSet.update(set(states[stateCheck][char]))\n",
        "          statesSet.update(set(states[currentState][char]))   \n",
        "          localStatesSet.append(set(statesSet))\n",
        "      globalStatesSet.append(localStatesSet)\n",
        "\n",
        "    #Выбираются все возможные конечные состояния\n",
        "    endPosStates = globalStatesSet[len(globalStatesSet)-1]\n",
        "    #Если какое-либо из них совпадает с конечным, то слово принимается\n",
        "    if type(endPosStates) is int:\n",
        "      endPosStates = list({endPosStates})\n",
        "    for positionSet in endPosStates:\n",
        "      if type(positionSet) is int:\n",
        "        positionSet = set({positionSet})\n",
        "      for position in positionSet:\n",
        "        if (position in endState) == True:\n",
        "          return True\n",
        "    return False     \n",
        "\n",
        "    "
      ],
      "execution_count": 1,
      "outputs": []
    },
    {
      "cell_type": "markdown",
      "metadata": {
        "id": "IEAmm-ulcw0c"
      },
      "source": [
        "Для примера рассмотрим:\n",
        "![автомат.png](data:image/png;base64,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)"
      ]
    },
    {
      "cell_type": "code",
      "metadata": {
        "colab": {
          "base_uri": "https://localhost:8080/"
        },
        "id": "-jNxYe8I5ZIQ",
        "outputId": "692fbab2-7d7f-4f89-d19b-6481abfad20e"
      },
      "source": [
        "alphabet = {'1', '0'}\n",
        "\n",
        "states = {0:{'0':{2}, '1':{2}, 'sp':{1, 3}},\n",
        "       1:{'0':{3}, '1':{0, 4}, 'sp':{}},\n",
        "       2:{'0':{1}, '1':{2}, 'sp':{}},\n",
        "       3:{'0':{1}, '1':{1}, 'sp':{}},\n",
        "       4:{'0':{3}, '1':{3}, 'sp':{}}}\n",
        "\n",
        "initialState = 0\n",
        "\n",
        "endState = {4}\n",
        "\n",
        "acceptor = NFAcceptor(alphabet, states, initialState, endState)\n",
        "\n",
        "print(acceptor.accept(\"0101\"))\n",
        "print(acceptor.accept(\"\"))\n",
        "print(acceptor.accept(\"1\"))\n",
        "print(acceptor.accept(\"01010\"))"
      ],
      "execution_count": 2,
      "outputs": [
        {
          "output_type": "stream",
          "text": [
            "True\n",
            "False\n",
            "True\n",
            "False\n"
          ],
          "name": "stdout"
        }
      ]
    },
    {
      "cell_type": "code",
      "metadata": {
        "id": "FjyJyqnfb-TK"
      },
      "source": [
        ""
      ],
      "execution_count": null,
      "outputs": []
    }
  ]
}