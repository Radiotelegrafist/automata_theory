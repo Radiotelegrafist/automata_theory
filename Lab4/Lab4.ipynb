{
  "nbformat": 4,
  "nbformat_minor": 0,
  "metadata": {
    "colab": {
      "name": "Lab4.ipynb",
      "provenance": []
    },
    "kernelspec": {
      "name": "python3",
      "display_name": "Python 3"
    }
  },
  "cells": [
    {
      "cell_type": "code",
      "metadata": {
        "colab": {
          "base_uri": "https://localhost:8080/"
        },
        "id": "lV7LQnKXWbkF",
        "outputId": "3e314811-b7ad-4427-da91-edcb64f466c8"
      },
      "source": [
        "#Расширим функционал класса, который был описан в прошлой лабораторной.\r\n",
        "class Acceptor:\r\n",
        "  def __init__(self, alphabet, states, initialState, endState):\r\n",
        "    self.alphabet = set(alphabet)\r\n",
        "    self.states = states\r\n",
        "    self.initialState = initialState\r\n",
        "    self.endState = set(endState)\r\n",
        "\r\n",
        "  def accept(self, input): \r\n",
        "    state = self.initialState\r\n",
        "    for char in input:\r\n",
        "      if (char in self.alphabet) == False:\r\n",
        "        return False        \r\n",
        "      state = states[state][char]\r\n",
        "    if (state in self.endState) == True:\r\n",
        "      return True\r\n",
        "    else:\r\n",
        "      return False\r\n",
        "\r\n",
        "  #Создадим новый метод, который будет удалять лишние состояния\r\n",
        "  def removeInaccessible(self):\r\n",
        "    #Есть три варианта, когда состояние будет недоступным:\r\n",
        "    #Символ присутствует в алфавите, но не используется в словаре\r\n",
        "    #Выписываем все символы из словаря в множество и сравниваем с алфавитом\r\n",
        "    #Так как акцептор детерминирован, то каждый символ должен встречаться в каждом состоянии\r\n",
        "    #А значит можно составить множество из любого одного состояния\r\n",
        "    row = set(self.states[0].keys())\r\n",
        "    self.alphabet = self.alphabet - self.alphabet.difference(row)\r\n",
        "    #Аналогичным образом удаляются и состояния, доступные через символы, которых нет в алфавите\r\n",
        "    diff = list(row.difference(self.alphabet))\r\n",
        "    #Составляется список разности множеств, и элементы удаляются из каждого состояния.\r\n",
        "    if (len(diff)>0):\r\n",
        "      for state in range(len(self.states)):\r\n",
        "        for char in diff:\r\n",
        "          self.states[state].pop(char)\r\n",
        "    #Последним вариантом недоступного состояния будет кго изоляция\r\n",
        "    #То есть, в состояние невозможно перейти из начального состояния\r\n",
        "    visited = set()\r\n",
        "    unchecked = set({self.initialState})\r\n",
        "    #Составляется множетсво всех состояний, в которые можно попасть по какому-либо пути из начального\r\n",
        "    while (1):\r\n",
        "      if (len(unchecked) == 0):\r\n",
        "        break;\r\n",
        "      tmp = list(unchecked)\r\n",
        "      visited.add(tmp[0])\r\n",
        "      unchecked.remove(tmp[0])\r\n",
        "      unchecked.update(set(states[tmp[0]].values()).difference(visited))\r\n",
        "    #Если этот список короче, чем количество состояний, то отсутствующие состояния можно удалить\r\n",
        "    if (len(visited) != len(self.states)):\r\n",
        "      for key in list(states.keys()):\r\n",
        "        if (key in visited) == False:\r\n",
        "          states.pop(key)\r\n",
        "    #Следует заметить, что также возможны недостижимые значения при переходе в несуществующее состояние\r\n",
        "    #Но при их удалении акцептор перестает быть детерминированным, поэтому предполагаем, что \r\n",
        "    #акцептор задан корректно\r\n",
        "\r\n",
        "alphabet = {'1', '0', 'a', 'b', 'c'}\r\n",
        "\r\n",
        "states = {0:{'0':0, '1':1, 'a':0, 'd':1, 'e':1},\r\n",
        "       1:{'0':0, '1':2, 'a':1, 'd':1, 'e':1},\r\n",
        "       2:{'0':1, '1':2, 'a':4, 'd':1, 'e':1},\r\n",
        "       3:{'0':0, '1':5, 'a':0, 'd':1, 'e':1},\r\n",
        "       4:{'0':0, '1':0, 'a':0, 'd':0, 'e':0},\r\n",
        "       5:{'0':1, '1':6, 'a':1, 'd':1, 'e':1},\r\n",
        "       6:{'0':1, '1':3, 'a':1, 'd':1, 'e':1}}\r\n",
        "\r\n",
        "initialState = 0\r\n",
        "\r\n",
        "endState = {4}\r\n",
        "\r\n",
        "acceptor = Acceptor(alphabet, states, initialState, endState)\r\n",
        "\r\n",
        "acceptor.removeInaccessible()\r\n",
        "\r\n",
        "print(acceptor.states)\r\n",
        "print(acceptor.alphabet)"
      ],
      "execution_count": 108,
      "outputs": [
        {
          "output_type": "stream",
          "text": [
            "{0: {'0': 0, '1': 1, 'a': 0}, 1: {'0': 0, '1': 2, 'a': 1}, 2: {'0': 1, '1': 2, 'a': 4}, 4: {'0': 0, '1': 0, 'a': 0}}\n",
            "{'1', 'a', '0'}\n"
          ],
          "name": "stdout"
        }
      ]
    }
  ]
}