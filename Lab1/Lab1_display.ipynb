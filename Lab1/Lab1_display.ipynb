{
  "nbformat": 4,
  "nbformat_minor": 0,
  "metadata": {
    "colab": {
      "name": "Lab1.ipynb",
      "provenance": []
    },
    "kernelspec": {
      "name": "python3",
      "display_name": "Python 3"
    }
  },
  "cells": [
    {
      "cell_type": "code",
      "metadata": {
        "colab": {
          "base_uri": "https://localhost:8080/"
        },
        "id": "z435gbxVhQXN",
        "outputId": "54882acb-1dc4-4f8c-bad1-19e9bae4bec8"
      },
      "source": [
        "#Пусть состояние автомата определяется следующими тремя свойствами, представленными как глобальные переменные:\r\n",
        "#Состояние игровой доски, номер (фигура) игрока который сейчас ходит, состояние игры (в процессе, победа Х/0, ничья)\r\n",
        "\r\n",
        "#Начальное состояние автомата следующее:\r\n",
        "#Доска заполнена пустыми ячейками\r\n",
        "board =[[0, 0, 0],\r\n",
        "        [0, 0, 0],\r\n",
        "        [0, 0, 0]]\r\n",
        "#Ходит игрок с фигурой 1 (условно, визуально это можно интерпретировать как любую фигуру)\r\n",
        "playerSelecter = 1\r\n",
        "#Игра не завершилась\r\n",
        "gameOver = 0\r\n",
        "\r\n",
        "#Команда grab принимает координаты клетки доски (по вертикали, по горизонтали)\r\n",
        "def grab(i, j):\r\n",
        "  global playerSelecter\r\n",
        "  global board\r\n",
        "  #Если клетка занята или находится за пределами доски, то команда возвращает (печатает) ошибку\r\n",
        "  if (i < 0 or i > 2 or j < 0 or j > 2 or board[i][j] != 0):\r\n",
        "    print (\"oops\")\r\n",
        "    return\r\n",
        "  #Если клетка свободна, то команда меняет состояние доски, состояние текущего игрока\r\n",
        "  else :\r\n",
        "    board[i][j] = playerSelecter\r\n",
        "    playerSelecter = -playerSelecter\r\n",
        "  return\r\n",
        "\r\n",
        "#Команда gameOverCheck проверяет окончилась ли игра.\r\n",
        "def gameOverCheck():\r\n",
        "  global gameOver \r\n",
        "  #Имеется набор конечных состояний доски, где один из играющих побеждает (в формате координат трех клеток)\r\n",
        "  conditions = [[0, 0, 0, 1, 0, 2], [1, 0, 1, 1, 1, 2], [2, 0, 2, 1, 2, 2], #3 по горизонтали\r\n",
        "                [0, 0, 1, 0, 2, 0], [0, 1, 1, 1, 2, 1], [0, 2, 1, 2, 2, 2], #3 по вертикали\r\n",
        "                [0, 0, 1, 1, 2, 2], [0, 2, 1, 1, 2, 0]] #3 по диагонали\r\n",
        "\r\n",
        "  #Проверяется, стоят ли в этих положениях одинаковые фигуры, не равные пустой клетке\r\n",
        "  for check in conditions:\r\n",
        "    if (board[check[0]][check[1]] == board[check[2]][check[3]] == board[check[4]][check[5]] != 0):\r\n",
        "      #Если да, то состояние окончания игры меняется на победу одного из игроков\r\n",
        "      gameOver = board[check[0]][check[1]]\r\n",
        "      return \r\n",
        "  #Если никто не победил, проверяется не закончилась ли игра ничьей (все клетки заняты)\r\n",
        "  drawCheck = 0\r\n",
        "  for i in range(3):\r\n",
        "    for j in range(3):\r\n",
        "      if (board[i][j] == 0):\r\n",
        "        drawCheck = 1\r\n",
        "  #Если все клетки действительно заняты, то состояние окончания игры меняется на ничью\r\n",
        "  if (drawCheck == 0):\r\n",
        "    gameOver = 2\r\n",
        "\r\n",
        "#Команда reinitGame позволяет вернуть автомаат в начальное состояние для повторной партии\r\n",
        "def reinitGame():\r\n",
        "  global board\r\n",
        "  global playerSelecter\r\n",
        "  global gameOver\r\n",
        "  board = [[0, 0, 0],\r\n",
        "           [0, 0, 0],\r\n",
        "           [0, 0, 0]]\r\n",
        "  playerSelecter = 1\r\n",
        "  gameOver = 0\r\n",
        "\r\n",
        "#Основной цикл игры, где вызываются все команды\r\n",
        "while (1):\r\n",
        "  #Игрок вводит координаты клетки, в которую он бы хотел сделать ход\r\n",
        "  print(\"Enter the vertical position:\")\r\n",
        "  i = int(input())\r\n",
        "  print(\"Enter the horizontal position:\")\r\n",
        "  j = int(input())\r\n",
        "  #Вызывается команда хода\r\n",
        "  grab(i,j)\r\n",
        "  #Вне зависимости от успешности хода печатается состояние доски\r\n",
        "  print(str(board[0]) + \"\\n\" + str(board[1]) + \"\\n\" + str(board[2]))\r\n",
        "  #Вызывается команда проверки окончания игры\r\n",
        "  gameOverCheck()\r\n",
        "  #Если игра закончилась, то в зависимости от состояния определяется победитель или ничья\r\n",
        "  #Также предлагается сыграть еще одну пакртию\r\n",
        "  if (gameOver != 0):\r\n",
        "    if (gameOver == 2):\r\n",
        "      print(\"It's a Draw!\\nAnother round?\\ny/n\")\r\n",
        "    else:\r\n",
        "      print(\"Game over! \" + str(gameOver) + \" wins\\nAnother round? \\ny/n\")\r\n",
        "    a = input()\r\n",
        "    #Цикл заканчивается, если игрок отказывется от повторной партии\r\n",
        "    if (a == \"y\"):\r\n",
        "      reinitGame()\r\n",
        "    else :\r\n",
        "      break\r\n"
      ],
      "execution_count": null,
      "outputs": [
        {
          "output_type": "stream",
          "text": [
            "Enter the vertical position:\n"
          ],
          "name": "stdout"
        }
      ]
    }
  ]
}