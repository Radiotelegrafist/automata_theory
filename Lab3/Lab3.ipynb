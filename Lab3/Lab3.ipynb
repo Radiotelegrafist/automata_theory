import string
def split(word):
    return [char for char in word] 
class Acceptor:
  #sigma, s, s0, f, delta
  def __init__(self, alphabet, states, initialState, endState):
    self.alphabet = set(alphabet)
    self.states = states
    self.initialState = initialState
    self.endState = endState

  def accept(self, input): 
    state = self.initialState
    for char in input:
      print(state)
      if (char in self.alphabet) == False:
        return False        
      state = states[state][char]
    print(state)
    if state == self.endState:
      return True
    else:
      return False

dictionary = {'1', '0', 'a'}

states = {0:{'0':0, '1':1, 'a':0},
       1:{'0':0, '1':2, 'a':1},
       2:{'0':1, '1':2, 'a':3},
       3:{'0':0, '1':0, 'a':0}}

initialState = 0

endState = 3

acceptor = Acceptor(dictionary, states, initialState, endState)

print(acceptor.accept("11a"))
